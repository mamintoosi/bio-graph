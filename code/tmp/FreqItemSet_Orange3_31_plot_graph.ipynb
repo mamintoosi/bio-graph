{
 "cells": [
  {
   "cell_type": "markdown",
   "metadata": {},
   "source": [
    "## M. Amintoosi\n",
    "## کاوش الگوهای پرتکرار\n",
    "استخراج قوانین انجمنی"
   ]
  },
  {
   "cell_type": "code",
   "execution_count": 207,
   "metadata": {},
   "outputs": [],
   "source": [
    "import pandas as pd\n",
    "import numpy as np\n",
    "\n",
    "# df = pd.read_excel(r'matrix20.xlsx') \n",
    "df = pd.read_excel(r'data/403.xlsx') \n",
    "# print (df)\n",
    "metabolitNames = df.head(0).to_string()"
   ]
  },
  {
   "cell_type": "code",
   "execution_count": 208,
   "metadata": {},
   "outputs": [
    {
     "data": {
      "text/plain": [
       "'Empty DataFrame\\nColumns: [Acacia farnesiana, Acacia seyal, Acer rubrum, Acer saccharum, Achillea millefolium, Achillea santolina, Achillea wilhelmsii, Aconitum coreanum, Acorus calamus, Acronychia pedunculata, Actaea racemosa, Aegiceras corniculatum, Agave americana, Aglaia elliptica , Agrimonia pilosa , Ailanthus altissima, Ajuga chia, Alangium salviifolium, Albizia adianthifolia, Albizia amara, Albizia lebbeck, Albizia zygia, Alchornea cordifolia, Allium ascalonicum, Allium cepa, Allium macrostemon, Allium sativum, Aloe vera, Alpinia galangal, Alpinia sp., Amoora aphanamimixis, Andrographis paniculata, Angelica sinensis, Annona montana, Annona muricata, Annona purpurea, Annona squamosa, Anoectochilus formosanus, Anthemis mirheydari, Antidesma bunius, Arabidopsis thaliana, Arachis hypogaea, Arctium lappa, Ardisia colorata, Ardisia crispa, Areca catechu, Argania spinosa, Aristolochia baetica, Artemisia absinthium, Artemisia annua, Artemisia biennis, Artemisia californica, Artemisia dracunculus, Artemisia sieberi, Artocarpus altilis, Artocarpus camansi, Artocarpus heterophyllus, Arum italicum, Arum palaestinum, Asparagus cochinchinensis, Astrodaucus orientalis, Astrodaucus persicus, Atractylodes macrocephala, Avicennia marina, Barringtonia macrocarpa, Berberis aquifolium, Berberis aristata, Berberis hispanica, Berberis orthobotrys, Berberis vulgaris, Beta vulgaris, Boerhavia diffusa, Brassica campestris, Brassica nigra, Brassica oleracea, Broussonetia papyrifera, Bupleurum Chinese, Caccinia macranthera, Cajanus cajan, Calea urticifolia, Calophyllum inophyllum, Calotropis procera, Camellia sinensis, Cannabis sativa, Capparis spinosa, Capsicum annuum, Carica papaya, Carya illinoinensis, Cascabela thevetia, Catharanthus roseus, Celastrus paniculatus, Centaurea sp., Centella asiatica, Centratherum anthelminticum, Chamaecyparis obtusa, Chelidonium majus, Chenopodium album, Chenopodium ambrosioides, Cicer arietinum, Cichorium intybus, ...]\\nIndex: []'"
      ]
     },
     "execution_count": 208,
     "metadata": {},
     "output_type": "execute_result"
    }
   ],
   "source": [
    "metabolitNames"
   ]
  },
  {
   "cell_type": "code",
   "execution_count": 209,
   "metadata": {},
   "outputs": [
    {
     "name": "stderr",
     "output_type": "stream",
     "text": [
      "d:\\ProgramData\\Anaconda3\\envs\\tf_gpu\\lib\\site-packages\\ipykernel_launcher.py:1: FutureWarning: Method .as_matrix will be removed in a future version. Use .values instead.\n",
      "  \"\"\"Entry point for launching an IPython kernel.\n"
     ]
    }
   ],
   "source": [
    "numpy_matrix = df.as_matrix()\n",
    "d =  numpy_matrix.transpose()\n",
    "T = [[str(i)[3:] for i in row ] for row in d]\n",
    "T = [[int(i) for i in row if i != ''] for row in T]\n",
    "# T[0][:20]"
   ]
  },
  {
   "cell_type": "code",
   "execution_count": 210,
   "metadata": {},
   "outputs": [],
   "source": [
    "# x = [row[~np.isnan(row)] for row in T]"
   ]
  },
  {
   "cell_type": "code",
   "execution_count": 211,
   "metadata": {},
   "outputs": [],
   "source": [
    "from orangecontrib.associate.fpgrowth import *"
   ]
  },
  {
   "cell_type": "code",
   "execution_count": 212,
   "metadata": {},
   "outputs": [],
   "source": [
    "minFreq = 20\n",
    "itemsets = frequent_itemsets(T, minFreq)"
   ]
  },
  {
   "cell_type": "code",
   "execution_count": 213,
   "metadata": {},
   "outputs": [],
   "source": [
    "# len(list(itemsets))\n",
    "# با یک بار مراجعه به آن خالی می‌شود!!!"
   ]
  },
  {
   "cell_type": "code",
   "execution_count": 214,
   "metadata": {},
   "outputs": [],
   "source": [
    "freqIS = list(itemsets)"
   ]
  },
  {
   "cell_type": "code",
   "execution_count": 215,
   "metadata": {},
   "outputs": [
    {
     "data": {
      "text/plain": [
       "40"
      ]
     },
     "execution_count": 215,
     "metadata": {},
     "output_type": "execute_result"
    }
   ],
   "source": [
    "len(freqIS)\n",
    "# تعداد فایل از این کمتر است به این دلیل که یک دانه‌ای ها را نمایش نمی دهیم"
   ]
  },
  {
   "cell_type": "code",
   "execution_count": 216,
   "metadata": {},
   "outputs": [],
   "source": [
    "# freqIS"
   ]
  },
  {
   "cell_type": "code",
   "execution_count": 217,
   "metadata": {},
   "outputs": [],
   "source": [
    "# k=1\n",
    "# n = 1\n",
    "# while True:\n",
    "#     print(\"======= sets with %d elements =======\"% k)\n",
    "#     flag = True\n",
    "#     for i in range(len(freqIS)):\n",
    "#         set_i = freqIS[i][0]\n",
    "#         if(len(set_i)==k):\n",
    "#             flag = False\n",
    "#             items = [x for x in set_i]\n",
    "#             print(n,items,freqIS[i][1])\n",
    "#             n = n+1\n",
    "#     if flag:\n",
    "#         break\n",
    "#     k = k+1"
   ]
  },
  {
   "cell_type": "code",
   "execution_count": 218,
   "metadata": {},
   "outputs": [],
   "source": [
    "# fileName = str(minFreq)+\"_common_metabolite_set_number_order\"+\".txt\"\n",
    "# output = open(fileName, 'w')\n",
    "# k = 1\n",
    "# n = 1\n",
    "# while True:\n",
    "#     output.write(\"======= sets with %d elements =======\\n\"% k)\n",
    "#     flag = True\n",
    "#     for i in range(len(freqIS)):\n",
    "#         set_i = freqIS[i][0]\n",
    "#         if(len(set_i)==k):\n",
    "#             flag = False\n",
    "#             items = [x for x in set_i]\n",
    "#             output.write(\"%d %s %d\\n\" % (n,items,freqIS[i][1]))\n",
    "#             n = n+1\n",
    "#     if flag:\n",
    "#         break\n",
    "#     k = k+1\n",
    "# output.close() "
   ]
  },
  {
   "cell_type": "code",
   "execution_count": 219,
   "metadata": {},
   "outputs": [],
   "source": [
    "itemSetNo = [None] * len(freqIS)\n",
    "for i in range(len(freqIS)):\n",
    "    itemSetNo[i] = len(freqIS[i][0])\n",
    "\n",
    "fileName = \"results/\"+str(minFreq)+\"_common_metabolite_set_number_order\"+\".txt\"\n",
    "output = open(fileName, 'w')\n",
    "n = 1\n",
    "prevSetNo = -1\n",
    "for k in range(max(itemSetNo)):\n",
    "    nSetNo = k+1\n",
    "    for i in range(len(freqIS)):\n",
    "        set_i = freqIS[i][0]\n",
    "        thisSetNo = len(set_i)\n",
    "        if(thisSetNo==nSetNo and prevSetNo != thisSetNo):\n",
    "            output.write(\"======= sets with %d elements =======\\n\"% nSetNo)\n",
    "        if(thisSetNo==nSetNo):\n",
    "            items = [x for x in set_i]\n",
    "            output.write(\"%d %s %d\\n\" % (n,items,freqIS[i][1]))\n",
    "            n = n+1\n",
    "            prevSetNo = thisSetNo\n",
    "output.close() "
   ]
  },
  {
   "cell_type": "code",
   "execution_count": 220,
   "metadata": {},
   "outputs": [],
   "source": [
    "itemFreq = [None] * len(freqIS)\n",
    "for i in range(len(freqIS)):\n",
    "    itemFreq[i] = freqIS[i][1]\n",
    "\n",
    "fileName = \"results/\"+str(minFreq)+\"_common_metabolite_freq_number_order\"+\".txt\"\n",
    "output = open(fileName, 'w')\n",
    "n = 1\n",
    "prevFreq = -1\n",
    "for k in range(max(itemFreq)):\n",
    "    nFreq = k+1\n",
    "    for i in range(len(freqIS)):\n",
    "        set_i = freqIS[i][0]\n",
    "        thisFreq = freqIS[i][1]\n",
    "        if(thisFreq==nFreq and prevFreq != thisFreq):\n",
    "            output.write(\"======= sets with frequency=%d =======\\n\"% nFreq)\n",
    "        if(thisFreq==nFreq):\n",
    "            items = [x for x in set_i]\n",
    "            output.write(\"%d %s\\n\" % (n,items))\n",
    "            n = n+1\n",
    "            prevFreq = thisFreq\n",
    "output.close() "
   ]
  },
  {
   "cell_type": "code",
   "execution_count": 221,
   "metadata": {},
   "outputs": [
    {
     "data": {
      "text/plain": [
       "frozenset({1})"
      ]
     },
     "execution_count": 221,
     "metadata": {},
     "output_type": "execute_result"
    }
   ],
   "source": [
    "items = freqIS[i][0]\n",
    "items"
   ]
  },
  {
   "cell_type": "code",
   "execution_count": 222,
   "metadata": {},
   "outputs": [
    {
     "name": "stdout",
     "output_type": "stream",
     "text": [
      "1\n"
     ]
    }
   ],
   "source": [
    "for x in items:\n",
    "    print(x)"
   ]
  },
  {
   "cell_type": "code",
   "execution_count": 223,
   "metadata": {},
   "outputs": [],
   "source": [
    "lst = [x for x in items]"
   ]
  },
  {
   "cell_type": "code",
   "execution_count": 224,
   "metadata": {},
   "outputs": [
    {
     "name": "stdout",
     "output_type": "stream",
     "text": [
      "0 1\n"
     ]
    }
   ],
   "source": [
    "print('\\n'.join('{} {}'.format(*k) for k in enumerate(lst)))"
   ]
  },
  {
   "cell_type": "code",
   "execution_count": 225,
   "metadata": {},
   "outputs": [
    {
     "data": {
      "text/plain": [
       "61"
      ]
     },
     "execution_count": 225,
     "metadata": {},
     "output_type": "execute_result"
    }
   ],
   "source": [
    "itemFreq = [None] * len(freqIS)\n",
    "for i in range(len(freqIS)):\n",
    "    itemFreq[i] = freqIS[i][1]\n",
    "max(itemFreq)"
   ]
  },
  {
   "cell_type": "code",
   "execution_count": 226,
   "metadata": {},
   "outputs": [],
   "source": [
    "# for i in range(max(itemFreq)):\n",
    "#     print(i)"
   ]
  },
  {
   "cell_type": "code",
   "execution_count": 227,
   "metadata": {},
   "outputs": [
    {
     "data": {
      "text/plain": [
       "46784"
      ]
     },
     "execution_count": 227,
     "metadata": {},
     "output_type": "execute_result"
    }
   ],
   "source": [
    "max(T[0])"
   ]
  },
  {
   "cell_type": "code",
   "execution_count": 228,
   "metadata": {},
   "outputs": [],
   "source": [
    "# from sklearn.feature_extraction.text import HashingVectorizer\n",
    "# from sklearn.feature_extraction.text import FeatureHasher\n",
    "# hasher = FeatureHasher(input_type='string')\n",
    "# X = hasher.transform(corpus)"
   ]
  },
  {
   "cell_type": "code",
   "execution_count": 229,
   "metadata": {},
   "outputs": [],
   "source": [
    "# listToStr = ' '.join([str(elem) for elem in T[0]]) \n",
    "# print(listToStr)  \n",
    "# listToStr"
   ]
  },
  {
   "cell_type": "code",
   "execution_count": 230,
   "metadata": {},
   "outputs": [],
   "source": [
    "corpus = [None] * len(T)\n",
    "for i in range(len(T)):\n",
    "    listToStr = ' '.join([str(elem) for elem in T[i]]) \n",
    "    corpus[i] = listToStr"
   ]
  },
  {
   "cell_type": "code",
   "execution_count": 231,
   "metadata": {},
   "outputs": [],
   "source": [
    "from sklearn.feature_extraction.text import CountVectorizer\n",
    "vectorizer = CountVectorizer(token_pattern = r\"(?u)\\b\\w+\\b\")\n",
    "X = vectorizer.fit_transform(corpus)\n",
    "# print(X.shape)\n",
    "# print(X.toarray())"
   ]
  },
  {
   "cell_type": "code",
   "execution_count": 232,
   "metadata": {},
   "outputs": [],
   "source": [
    "bow = X.toarray()\n",
    "# print(bow[0] & bow[2])\n",
    "# print(sum(bow[0] & bow[2]))"
   ]
  },
  {
   "cell_type": "code",
   "execution_count": 233,
   "metadata": {},
   "outputs": [],
   "source": [
    "# print((corpus[24]))\n",
    "# print(len(T[24]))\n",
    "# print((len(corpus[24].split())))\n",
    "# row24 = X[24,:].toarray()\n",
    "# print(sum(sum(row24)))\n",
    "# print(sum(bow[24,:]))\n",
    "# print(bow[24,:])"
   ]
  },
  {
   "cell_type": "code",
   "execution_count": 234,
   "metadata": {},
   "outputs": [],
   "source": [
    "featureNames = vectorizer.get_feature_names()\n",
    "# type(featureNames)"
   ]
  },
  {
   "cell_type": "code",
   "execution_count": 235,
   "metadata": {},
   "outputs": [],
   "source": [
    "# list(items)"
   ]
  },
  {
   "cell_type": "code",
   "execution_count": 236,
   "metadata": {},
   "outputs": [],
   "source": [
    "# commItems_idx = [featureNames.index(str(x)) for x in list(items)]\n",
    "# print(commItems_idx)"
   ]
  },
  {
   "cell_type": "code",
   "execution_count": 237,
   "metadata": {},
   "outputs": [],
   "source": [
    "itemFreq = [None] * len(freqIS)\n",
    "for i in range(len(freqIS)):\n",
    "    itemFreq[i] = freqIS[i][1]\n",
    "\n",
    "nCol = len(T)    \n",
    "G = np.zeros([nCol,nCol])  \n",
    "    \n",
    "fileName = \"results/\"+str(minFreq)+\"_common_metabolite_freq\"+\".txt\"\n",
    "output = open(fileName, 'w')\n",
    "n = 1\n",
    "prevFreq = -1\n",
    "for k in range(max(itemFreq)):\n",
    "    nFreq = k+1\n",
    "    for i in range(len(freqIS)):\n",
    "        set_i = freqIS[i][0]\n",
    "        thisFreq = freqIS[i][1]\n",
    "        if(thisFreq==nFreq and prevFreq != thisFreq):\n",
    "            output.write(\"======= sets with frequency=%d =======\\n\"% nFreq)\n",
    "        if(thisFreq==nFreq):\n",
    "            items = [x for x in set_i]\n",
    "            commItems_idx = [featureNames.index(str(x)) for x in list(items)]\n",
    "#             print(commItems_idx)\n",
    "            w = len(commItems_idx)\n",
    "\n",
    "            metabolits_list = [featureNames[int(ii)] for ii in commItems_idx]\n",
    "            output.write(\"%d %s --\" % (n,metabolits_list))\n",
    "            \n",
    "            vec = np.zeros((len(bow[0]),), dtype=int)\n",
    "            vec[commItems_idx] = 1;\n",
    "            commItems = []\n",
    "            for j in range(len(bow)):\n",
    "                row = bow[j]\n",
    "                if sum(row&vec)!=0:\n",
    "                    commItems.append(j)\n",
    "                    \n",
    "# #          commItems = [rowIdx for row in bow if sum(row&vec)!=0]\n",
    "            output.write(\" %s \\n\" % (commItems))\n",
    "            for ii in range(len(commItems)):\n",
    "                for jj in range(ii):\n",
    "                    src = commItems[ii]\n",
    "                    dst = commItems[jj]\n",
    "                    G[src,dst] += 1\n",
    "#                     G[jj,ii] += w\n",
    "    \n",
    "#             col_list = [metabolitNames[int(ii)] for ii in commItems]\n",
    "#             output.write(\" %s \\n\" % (col_list))\n",
    "        \n",
    "            n = n+1\n",
    "            prevFreq = thisFreq\n",
    "output.close() "
   ]
  },
  {
   "cell_type": "code",
   "execution_count": 238,
   "metadata": {},
   "outputs": [],
   "source": [
    "from pyvis.network import Network\n",
    "import pandas as pd\n",
    "\n",
    "got_net = Network(height=\"750px\", width=\"100%\", bgcolor=\"#222222\", font_color=\"white\")\n",
    "\n",
    "# set the physics layout of the network\n",
    "got_net.barnes_hut()\n",
    "\n",
    "for ii in range(len(G)):\n",
    "    for jj in range(ii):\n",
    "        w = G[ii,jj]\n",
    "        if w!=0:\n",
    "            src = str(ii)\n",
    "            dst = str(jj)\n",
    "            got_net.add_node(src, src, title=src)\n",
    "            got_net.add_node(dst, dst, title=dst)\n",
    "            got_net.add_edge(src, dst, value=w)\n",
    "\n",
    "neighbor_map = got_net.get_adj_list()"
   ]
  },
  {
   "cell_type": "code",
   "execution_count": 239,
   "metadata": {},
   "outputs": [],
   "source": [
    "# add neighbor data to node hover data\n",
    "for node in got_net.nodes:\n",
    "    node[\"title\"] += \" Neighbors:<br>\" + \"<br>\".join(neighbor_map[node[\"id\"]])\n",
    "    node[\"value\"] = len(neighbor_map[node[\"id\"]])"
   ]
  },
  {
   "cell_type": "code",
   "execution_count": 240,
   "metadata": {},
   "outputs": [],
   "source": [
    "got_net.show(\"results/\"+str(minFreq)+\"_metabolGraph.html\")"
   ]
  },
  {
   "cell_type": "code",
   "execution_count": 241,
   "metadata": {},
   "outputs": [],
   "source": [
    "# import seaborn as sns\n",
    "# sns.heatmap(G, annot=True)"
   ]
  },
  {
   "cell_type": "code",
   "execution_count": 242,
   "metadata": {},
   "outputs": [],
   "source": [
    "# print(set_i)\n",
    "# print(items)\n",
    "# print(commItems_idx)\n",
    "# print(featureNames.index('2374'))"
   ]
  },
  {
   "cell_type": "code",
   "execution_count": 243,
   "metadata": {},
   "outputs": [],
   "source": [
    "# featureNames"
   ]
  },
  {
   "cell_type": "code",
   "execution_count": null,
   "metadata": {},
   "outputs": [],
   "source": []
  }
 ],
 "metadata": {
  "kernelspec": {
   "display_name": "Python 3",
   "language": "python",
   "name": "python3"
  },
  "language_info": {
   "codemirror_mode": {
    "name": "ipython",
    "version": 3
   },
   "file_extension": ".py",
   "mimetype": "text/x-python",
   "name": "python",
   "nbconvert_exporter": "python",
   "pygments_lexer": "ipython3",
   "version": "3.6.7"
  }
 },
 "nbformat": 4,
 "nbformat_minor": 2
}
