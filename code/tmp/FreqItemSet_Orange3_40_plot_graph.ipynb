{
 "cells": [
  {
   "cell_type": "markdown",
   "metadata": {
    "id": "tfYFZ8f3StJp"
   },
   "source": [
    "## M. Amintoosi\n",
    "## کاوش الگوهای پرتکرار\n",
    "استخراج قوانین انجمنی"
   ]
  },
  {
   "cell_type": "code",
   "execution_count": null,
   "metadata": {
    "colab": {
     "base_uri": "https://localhost:8080/"
    },
    "id": "hWnfo6xEStJ2",
    "outputId": "edc0ad82-c115-4dbc-dc52-c3ae85f774f6"
   },
   "outputs": [
    {
     "name": "stdout",
     "output_type": "stream",
     "text": [
      "Go to this URL in a browser: https://accounts.google.com/o/oauth2/auth?client_id=947318989803-6bn6qk8qdgf4n4g3pfee6491hc0brc4i.apps.googleusercontent.com&redirect_uri=urn%3aietf%3awg%3aoauth%3a2.0%3aoob&scope=email%20https%3a%2f%2fwww.googleapis.com%2fauth%2fdocs.test%20https%3a%2f%2fwww.googleapis.com%2fauth%2fdrive%20https%3a%2f%2fwww.googleapis.com%2fauth%2fdrive.photos.readonly%20https%3a%2f%2fwww.googleapis.com%2fauth%2fpeopleapi.readonly%20https%3a%2f%2fwww.googleapis.com%2fauth%2fdrive.activity.readonly&response_type=code\n",
      "\n",
      "Enter your authorization code:\n",
      "4/1AY0e-g6mcid9vc4ykdXTRe5MoNLwDqMyRgQez--Pjm5bJ0DFP3ZwQgcJOaA\n"
     ]
    }
   ],
   "source": [
    "from google.colab import drive\n",
    "drive.mount('/content/drive')"
   ]
  },
  {
   "cell_type": "code",
   "execution_count": 2,
   "metadata": {
    "colab": {
     "base_uri": "https://localhost:8080/"
    },
    "executionInfo": {
     "elapsed": 1048,
     "status": "ok",
     "timestamp": 1608272269983,
     "user": {
      "displayName": "Mahmood Amintoosi",
      "photoUrl": "https://lh3.googleusercontent.com/a-/AOh14GiWZ48HqYJJmPdDTueTtb12dMDVlabGiGyYWEXTkA=s64",
      "userId": "06389092743998374259"
     },
     "user_tz": -210
    },
    "id": "5AslfNtAStJ4",
    "outputId": "139b6a65-63a9-4190-f85e-3e363ec158d2"
   },
   "outputs": [
    {
     "name": "stdout",
     "output_type": "stream",
     "text": [
      "/content/drive/My Drive/colabs/CoWork/Kohan\n"
     ]
    }
   ],
   "source": [
    "cd /content/drive/My Drive/colabs/CoWork/Kohan"
   ]
  },
  {
   "cell_type": "code",
   "execution_count": null,
   "metadata": {
    "colab": {
     "base_uri": "https://localhost:8080/"
    },
    "executionInfo": {
     "elapsed": 39773,
     "status": "ok",
     "timestamp": 1608272310627,
     "user": {
      "displayName": "Mahmood Amintoosi",
      "photoUrl": "https://lh3.googleusercontent.com/a-/AOh14GiWZ48HqYJJmPdDTueTtb12dMDVlabGiGyYWEXTkA=s64",
      "userId": "06389092743998374259"
     },
     "user_tz": -210
    },
    "id": "RWH2GPL6StJ5",
    "outputId": "446f4373-64c6-4b8a-c824-f5a72f1459a0"
   },
   "outputs": [],
   "source": [
    "!pip3 install Orange3-Associate\n",
    "!pip install pyvis"
   ]
  },
  {
   "cell_type": "code",
   "execution_count": 2,
   "metadata": {
    "executionInfo": {
     "elapsed": 1011,
     "status": "ok",
     "timestamp": 1608287440447,
     "user": {
      "displayName": "Mahmood Amintoosi",
      "photoUrl": "https://lh3.googleusercontent.com/a-/AOh14GiWZ48HqYJJmPdDTueTtb12dMDVlabGiGyYWEXTkA=s64",
      "userId": "06389092743998374259"
     },
     "user_tz": -210
    },
    "id": "bfPs53w-StJ6"
   },
   "outputs": [],
   "source": [
    "import pandas as pd\n",
    "import numpy as np\n",
    "from orangecontrib.associate.fpgrowth import *\n",
    "from itertools import tee\n",
    "from tqdm import tqdm\n",
    "\n",
    "# df = pd.read_excel(r'matrix20.xlsx') \n",
    "df = pd.read_excel(r'../data/403.xlsx', engine=\"openpyxl\") \n",
    "# print (df)\n",
    "# metabolitNames = df.head(0).to_string()\n",
    "plantNames = list(df.head(0))"
   ]
  },
  {
   "cell_type": "code",
   "execution_count": 3,
   "metadata": {
    "executionInfo": {
     "elapsed": 32633,
     "status": "ok",
     "timestamp": 1608272312090,
     "user": {
      "displayName": "Mahmood Amintoosi",
      "photoUrl": "https://lh3.googleusercontent.com/a-/AOh14GiWZ48HqYJJmPdDTueTtb12dMDVlabGiGyYWEXTkA=s64",
      "userId": "06389092743998374259"
     },
     "user_tz": -210
    },
    "id": "ZY_9FBBxStKA"
   },
   "outputs": [],
   "source": [
    "numpy_matrix = df.values\n",
    "d =  numpy_matrix.transpose()\n",
    "T = [[str(i)[3:] for i in row ] for row in d]\n",
    "T = [[int(i) for i in row if i != ''] for row in T]\n",
    "# T[0][:20]"
   ]
  },
  {
   "cell_type": "code",
   "execution_count": 4,
   "metadata": {
    "colab": {
     "base_uri": "https://localhost:8080/"
    },
    "executionInfo": {
     "elapsed": 29189,
     "status": "ok",
     "timestamp": 1608272312092,
     "user": {
      "displayName": "Mahmood Amintoosi",
      "photoUrl": "https://lh3.googleusercontent.com/a-/AOh14GiWZ48HqYJJmPdDTueTtb12dMDVlabGiGyYWEXTkA=s64",
      "userId": "06389092743998374259"
     },
     "user_tz": -210
    },
    "id": "XoDN-R2YStKC",
    "outputId": "af86047c-7700-47c2-c7bb-84cdd1cff0ff"
   },
   "outputs": [
    {
     "name": "stdout",
     "output_type": "stream",
     "text": [
      "680\n"
     ]
    }
   ],
   "source": [
    "minFreq = 10\n",
    "itemsets = frequent_itemsets(T, minFreq)\n",
    "freqIS_list = list(itemsets)\n",
    "n_freqIS = len(freqIS_list)\n",
    "print(n_freqIS)"
   ]
  },
  {
   "cell_type": "code",
   "execution_count": 5,
   "metadata": {
    "colab": {
     "base_uri": "https://localhost:8080/"
    },
    "executionInfo": {
     "elapsed": 17247,
     "status": "ok",
     "timestamp": 1608272312093,
     "user": {
      "displayName": "Mahmood Amintoosi",
      "photoUrl": "https://lh3.googleusercontent.com/a-/AOh14GiWZ48HqYJJmPdDTueTtb12dMDVlabGiGyYWEXTkA=s64",
      "userId": "06389092743998374259"
     },
     "user_tz": -210
    },
    "id": "InXthDQZNjRa",
    "outputId": "6a05ab14-3152-4b8b-e594-6038e0caa7cb"
   },
   "outputs": [
    {
     "name": "stderr",
     "output_type": "stream",
     "text": [
      "100%|██████████| 680/680 [00:00<00:00, 106371.04it/s]\n"
     ]
    }
   ],
   "source": [
    "itemSetNo = [None] * n_freqIS\n",
    "freqIS = iter(freqIS_list)\n",
    "for i,item in enumerate(freqIS):\n",
    "    itemSetNo[i] = len(item[0])\n",
    "\n",
    "fileName = \"results/\"+str(minFreq)+\"_common_metabolite_set_number_order\"+\".txt\"\n",
    "output = open(fileName, 'w')\n",
    "n = 1\n",
    "prevSetNo = -1\n",
    "with tqdm(total=n_freqIS) as progress_bar:\n",
    "  for k in range(max(itemSetNo)):\n",
    "      nSetNo = k+1\n",
    "      freqIS = iter(freqIS_list)\n",
    "      for i,item in enumerate(freqIS):\n",
    "          set_i = item[0]\n",
    "          thisSetNo = len(set_i)\n",
    "          if(thisSetNo==nSetNo and prevSetNo != thisSetNo):\n",
    "              output.write(\"======= sets with %d elements =======\\n\"% nSetNo)\n",
    "          if(thisSetNo==nSetNo):\n",
    "              items = [x for x in set_i]\n",
    "              output.write(\"%d %s %d\\n\" % (n,items,item[1]))\n",
    "              n = n+1\n",
    "              prevSetNo = thisSetNo\n",
    "              progress_bar.update(1) # update progress\n",
    "output.close() "
   ]
  },
  {
   "cell_type": "code",
   "execution_count": 10,
   "metadata": {
    "executionInfo": {
     "elapsed": 6214,
     "status": "ok",
     "timestamp": 1608272312095,
     "user": {
      "displayName": "Mahmood Amintoosi",
      "photoUrl": "https://lh3.googleusercontent.com/a-/AOh14GiWZ48HqYJJmPdDTueTtb12dMDVlabGiGyYWEXTkA=s64",
      "userId": "06389092743998374259"
     },
     "user_tz": -210
    },
    "id": "u3KHU8mTStKE"
   },
   "outputs": [],
   "source": [
    "# len(freqIS)\n",
    "# تعداد فایل از این کمتر است به این دلیل که یک دانه‌ای ها را نمایش نمی دهیم"
   ]
  },
  {
   "cell_type": "code",
   "execution_count": 11,
   "metadata": {
    "colab": {
     "base_uri": "https://localhost:8080/"
    },
    "executionInfo": {
     "elapsed": 3954,
     "status": "ok",
     "timestamp": 1608272312095,
     "user": {
      "displayName": "Mahmood Amintoosi",
      "photoUrl": "https://lh3.googleusercontent.com/a-/AOh14GiWZ48HqYJJmPdDTueTtb12dMDVlabGiGyYWEXTkA=s64",
      "userId": "06389092743998374259"
     },
     "user_tz": -210
    },
    "id": "nyS7PdhqStKH",
    "outputId": "b2fba725-0c62-4d1c-df3e-9b72c60cb4d3"
   },
   "outputs": [
    {
     "name": "stderr",
     "output_type": "stream",
     "text": [
      "100%|██████████| 680/680 [00:00<00:00, 48763.47it/s]\n"
     ]
    }
   ],
   "source": [
    "itemFreq = [None] * n_freqIS\n",
    "freqIS = iter(freqIS_list)\n",
    "for i,item in enumerate(freqIS):\n",
    "    itemFreq[i] = item[1]\n",
    "\n",
    "fileName = \"results/\"+str(minFreq)+\"_common_metabolite_freq_number_order\"+\".txt\"\n",
    "output = open(fileName, 'w')\n",
    "n = 1\n",
    "prevFreq = -1\n",
    "with tqdm(total=n_freqIS) as progress_bar:\n",
    "  for k in range(max(itemFreq)):\n",
    "      nFreq = k+1\n",
    "      freqIS = iter(freqIS_list)\n",
    "      for i,item in enumerate(freqIS):\n",
    "          set_i = item[0]\n",
    "          thisFreq = item[1]\n",
    "          if(thisFreq==nFreq and prevFreq != thisFreq):\n",
    "              output.write(\"======= sets with frequency=%d =======\\n\"% nFreq)\n",
    "          if(thisFreq==nFreq):\n",
    "              items = [x for x in set_i]\n",
    "              output.write(\"%d %s\\n\" % (n,items))\n",
    "              n = n+1\n",
    "              prevFreq = thisFreq\n",
    "              progress_bar.update(1) # update progress\n",
    "\n",
    "output.close() "
   ]
  },
  {
   "cell_type": "code",
   "execution_count": 6,
   "metadata": {
    "executionInfo": {
     "elapsed": 992,
     "status": "ok",
     "timestamp": 1608272316722,
     "user": {
      "displayName": "Mahmood Amintoosi",
      "photoUrl": "https://lh3.googleusercontent.com/a-/AOh14GiWZ48HqYJJmPdDTueTtb12dMDVlabGiGyYWEXTkA=s64",
      "userId": "06389092743998374259"
     },
     "user_tz": -210
    },
    "id": "HIJML9kiStKN"
   },
   "outputs": [],
   "source": [
    "corpus = [None] * len(T)\n",
    "for i in range(len(T)):\n",
    "    listToStr = ' '.join([str(elem) for elem in T[i]]) \n",
    "    corpus[i] = listToStr"
   ]
  },
  {
   "cell_type": "code",
   "execution_count": 7,
   "metadata": {
    "colab": {
     "base_uri": "https://localhost:8080/"
    },
    "executionInfo": {
     "elapsed": 2143,
     "status": "ok",
     "timestamp": 1608272320665,
     "user": {
      "displayName": "Mahmood Amintoosi",
      "photoUrl": "https://lh3.googleusercontent.com/a-/AOh14GiWZ48HqYJJmPdDTueTtb12dMDVlabGiGyYWEXTkA=s64",
      "userId": "06389092743998374259"
     },
     "user_tz": -210
    },
    "id": "3y1zgRupStKY",
    "outputId": "329bc74b-8cab-4113-96c3-0498705a62ed"
   },
   "outputs": [
    {
     "name": "stdout",
     "output_type": "stream",
     "text": [
      "(403, 7416)\n",
      "[[0 0 0 ... 0 0 0]\n",
      " [0 0 0 ... 0 0 0]\n",
      " [0 0 0 ... 0 0 0]\n",
      " ...\n",
      " [0 0 0 ... 0 0 0]\n",
      " [0 0 0 ... 0 0 0]\n",
      " [0 0 0 ... 0 0 0]]\n"
     ]
    }
   ],
   "source": [
    "from sklearn.feature_extraction.text import CountVectorizer\n",
    "vectorizer = CountVectorizer(token_pattern = r\"(?u)\\b\\w+\\b\")\n",
    "X = vectorizer.fit_transform(corpus)\n",
    "print(X.shape)\n",
    "print(X.toarray())"
   ]
  },
  {
   "cell_type": "code",
   "execution_count": 8,
   "metadata": {
    "colab": {
     "base_uri": "https://localhost:8080/"
    },
    "executionInfo": {
     "elapsed": 963,
     "status": "ok",
     "timestamp": 1608272326653,
     "user": {
      "displayName": "Mahmood Amintoosi",
      "photoUrl": "https://lh3.googleusercontent.com/a-/AOh14GiWZ48HqYJJmPdDTueTtb12dMDVlabGiGyYWEXTkA=s64",
      "userId": "06389092743998374259"
     },
     "user_tz": -210
    },
    "id": "arSZK4mdStKa",
    "outputId": "160607e2-edc0-48f0-d758-788d6eaee040"
   },
   "outputs": [
    {
     "name": "stdout",
     "output_type": "stream",
     "text": [
      "[0 0 0 ... 0 0 0]\n",
      "1\n"
     ]
    }
   ],
   "source": [
    "bow = X.toarray()\n",
    "print(bow[0] & bow[2])\n",
    "print(sum(bow[0] & bow[2]))"
   ]
  },
  {
   "cell_type": "code",
   "execution_count": 9,
   "metadata": {
    "colab": {
     "base_uri": "https://localhost:8080/"
    },
    "executionInfo": {
     "elapsed": 1006,
     "status": "ok",
     "timestamp": 1608272343287,
     "user": {
      "displayName": "Mahmood Amintoosi",
      "photoUrl": "https://lh3.googleusercontent.com/a-/AOh14GiWZ48HqYJJmPdDTueTtb12dMDVlabGiGyYWEXTkA=s64",
      "userId": "06389092743998374259"
     },
     "user_tz": -210
    },
    "id": "8szo7n_cStKa",
    "outputId": "94526aeb-cb5f-40cb-ec16-fc81c9f76dd8"
   },
   "outputs": [
    {
     "data": {
      "text/plain": [
       "['1', '10', '100', '1000', '10004']"
      ]
     },
     "execution_count": 9,
     "metadata": {},
     "output_type": "execute_result"
    }
   ],
   "source": [
    "featureNames = vectorizer.get_feature_names()\n",
    "type(featureNames)\n",
    "featureNames[:5]"
   ]
  },
  {
   "cell_type": "code",
   "execution_count": 10,
   "metadata": {
    "executionInfo": {
     "elapsed": 1022,
     "status": "ok",
     "timestamp": 1608272346592,
     "user": {
      "displayName": "Mahmood Amintoosi",
      "photoUrl": "https://lh3.googleusercontent.com/a-/AOh14GiWZ48HqYJJmPdDTueTtb12dMDVlabGiGyYWEXTkA=s64",
      "userId": "06389092743998374259"
     },
     "user_tz": -210
    },
    "id": "eEszgF8uStKa"
   },
   "outputs": [
    {
     "data": {
      "text/plain": [
       "[[1036, 2647, 5548, 5872, 8210, 8817, 13297, 13867, 13974, 14320, 46784],\n",
       " [2647, 5548, 8817],\n",
       " [1411, 2647, 6798, 30222, 30754, 38195],\n",
       " [1151, 1411, 2728, 2775, 6798],\n",
       " [615,\n",
       "  619,\n",
       "  1174,\n",
       "  1189,\n",
       "  1273,\n",
       "  1345,\n",
       "  1367,\n",
       "  1555,\n",
       "  2074,\n",
       "  2724,\n",
       "  3040,\n",
       "  3114,\n",
       "  3205,\n",
       "  3674,\n",
       "  3817,\n",
       "  3840,\n",
       "  4607,\n",
       "  4705,\n",
       "  4712,\n",
       "  5413,\n",
       "  11756,\n",
       "  20476,\n",
       "  20821,\n",
       "  21325,\n",
       "  34392,\n",
       "  41430]]"
      ]
     },
     "execution_count": 10,
     "metadata": {},
     "output_type": "execute_result"
    }
   ],
   "source": [
    "# list(items)\n",
    "T[:5]"
   ]
  },
  {
   "cell_type": "code",
   "execution_count": 19,
   "metadata": {
    "executionInfo": {
     "elapsed": 747,
     "status": "ok",
     "timestamp": 1608272347189,
     "user": {
      "displayName": "Mahmood Amintoosi",
      "photoUrl": "https://lh3.googleusercontent.com/a-/AOh14GiWZ48HqYJJmPdDTueTtb12dMDVlabGiGyYWEXTkA=s64",
      "userId": "06389092743998374259"
     },
     "user_tz": -210
    },
    "id": "sUceCtWuStKa"
   },
   "outputs": [],
   "source": [
    "# commItems_idx = [featureNames.index(str(x)) for x in list(items)]\n",
    "# print(commItems_idx)"
   ]
  },
  {
   "cell_type": "code",
   "execution_count": 20,
   "metadata": {
    "colab": {
     "base_uri": "https://localhost:8080/",
     "height": 287
    },
    "executionInfo": {
     "elapsed": 368088,
     "status": "error",
     "timestamp": 1608272739233,
     "user": {
      "displayName": "Mahmood Amintoosi",
      "photoUrl": "https://lh3.googleusercontent.com/a-/AOh14GiWZ48HqYJJmPdDTueTtb12dMDVlabGiGyYWEXTkA=s64",
      "userId": "06389092743998374259"
     },
     "user_tz": -210
    },
    "id": "f0fDru6RStKb",
    "outputId": "b47a7674-5dff-4822-cf21-cffa4464ecef"
   },
   "outputs": [
    {
     "name": "stderr",
     "output_type": "stream",
     "text": [
      "100%|██████████| 680/680 [06:06<00:00,  1.85it/s]\n"
     ]
    },
    {
     "ename": "TypeError",
     "evalue": "ignored",
     "output_type": "error",
     "traceback": [
      "\u001b[0;31m---------------------------------------------------------------------------\u001b[0m",
      "\u001b[0;31mTypeError\u001b[0m                                 Traceback (most recent call last)",
      "\u001b[0;32m<ipython-input-20-d961e69c3ab1>\u001b[0m in \u001b[0;36m<module>\u001b[0;34m()\u001b[0m\n\u001b[1;32m     58\u001b[0m   \u001b[0mnp\u001b[0m\u001b[0;34m.\u001b[0m\u001b[0msave\u001b[0m\u001b[0;34m(\u001b[0m\u001b[0mf\u001b[0m\u001b[0;34m,\u001b[0m\u001b[0mG\u001b[0m\u001b[0;34m)\u001b[0m\u001b[0;34m\u001b[0m\u001b[0;34m\u001b[0m\u001b[0m\n\u001b[1;32m     59\u001b[0m   \u001b[0mnp\u001b[0m\u001b[0;34m.\u001b[0m\u001b[0msave\u001b[0m\u001b[0;34m(\u001b[0m\u001b[0mf\u001b[0m\u001b[0;34m,\u001b[0m\u001b[0mfeatureNames\u001b[0m\u001b[0;34m)\u001b[0m\u001b[0;34m\u001b[0m\u001b[0;34m\u001b[0m\u001b[0m\n\u001b[0;32m---> 60\u001b[0;31m   \u001b[0mnp\u001b[0m\u001b[0;34m.\u001b[0m\u001b[0msave\u001b[0m\u001b[0;34m(\u001b[0m\u001b[0mplantNames\u001b[0m\u001b[0;34m)\u001b[0m\u001b[0;34m\u001b[0m\u001b[0;34m\u001b[0m\u001b[0m\n\u001b[0m\u001b[1;32m     61\u001b[0m   \u001b[0mnp\u001b[0m\u001b[0;34m.\u001b[0m\u001b[0msave\u001b[0m\u001b[0;34m(\u001b[0m\u001b[0mbow\u001b[0m\u001b[0;34m)\u001b[0m\u001b[0;34m\u001b[0m\u001b[0;34m\u001b[0m\u001b[0m\n",
      "\u001b[0;32m<__array_function__ internals>\u001b[0m in \u001b[0;36msave\u001b[0;34m(*args, **kwargs)\u001b[0m\n",
      "\u001b[0;31mTypeError\u001b[0m: _save_dispatcher() missing 1 required positional argument: 'arr'"
     ]
    }
   ],
   "source": [
    "itemFreq = [None] * n_freqIS\n",
    "freqIS = iter(freqIS_list)\n",
    "for i,item in enumerate(freqIS):\n",
    "    itemFreq[i] = item[1]\n",
    "\n",
    "nCol = len(T)    \n",
    "G = np.zeros([nCol,nCol])  \n",
    "    \n",
    "fileName = \"results/\"+str(minFreq)+\"_common_plantNo_freq\"+\".txt\"\n",
    "output = open(fileName, 'w')\n",
    "n = 1\n",
    "prevFreq = -1\n",
    "# حلقه زیر نیاز به بازنویسی دارد. فقط روی فرکانسهای موجود باید حرکت بشه نه از اول شروع کنیم و یکی یکی ...\n",
    "# unique(itemFreq)\n",
    "with tqdm(total=n_freqIS) as progress_bar:\n",
    "  for k in range(max(itemFreq)):\n",
    "      nFreq = k+1\n",
    "      freqIS = iter(freqIS_list)\n",
    "      for i,item in enumerate(freqIS):\n",
    "          set_i = item[0]\n",
    "          thisFreq = item[1]\n",
    "          if(thisFreq==nFreq and prevFreq != thisFreq):\n",
    "              output.write(\"======= sets with frequency=%d =======\\n\"% nFreq)\n",
    "          if(thisFreq==nFreq):\n",
    "              items = [x for x in set_i]\n",
    "              commItems_idx = [featureNames.index(str(x)) for x in list(items)]\n",
    "  #             print(commItems_idx)\n",
    "              w = len(commItems_idx)\n",
    "\n",
    "              metabolits_list = [featureNames[int(ii)] for ii in commItems_idx]\n",
    "              output.write(\"%d %s --\" % (n,metabolits_list))\n",
    "              \n",
    "              vec = np.zeros((len(bow[0]),), dtype=int)\n",
    "              vec[commItems_idx] = 1;\n",
    "              commItems = []\n",
    "              for j in range(len(bow)):\n",
    "                  row = bow[j]\n",
    "                  if sum(row&vec)== w:\n",
    "                      commItems.append(j)\n",
    "                      \n",
    "  # #          commItems = [rowIdx for row in bow if sum(row&vec)!=0]\n",
    "              output.write(\" %s \\n\" % (commItems))\n",
    "              for ii in range(len(commItems)):\n",
    "                  for jj in range(ii):\n",
    "                      src = commItems[ii]\n",
    "                      dst = commItems[jj]\n",
    "                      G[src,dst] += 1\n",
    "  #                     G[jj,ii] += w\n",
    "      \n",
    "  #             col_list = [metabolitNames[int(ii)] for ii in commItems]\n",
    "  #             output.write(\" %s \\n\" % (col_list))\n",
    "          \n",
    "              n = n+1\n",
    "              prevFreq = thisFreq\n",
    "              progress_bar.update(1) # update progress\n",
    "\n",
    "output.close() "
   ]
  },
  {
   "cell_type": "code",
   "execution_count": 21,
   "metadata": {
    "executionInfo": {
     "elapsed": 1050,
     "status": "ok",
     "timestamp": 1608272845678,
     "user": {
      "displayName": "Mahmood Amintoosi",
      "photoUrl": "https://lh3.googleusercontent.com/a-/AOh14GiWZ48HqYJJmPdDTueTtb12dMDVlabGiGyYWEXTkA=s64",
      "userId": "06389092743998374259"
     },
     "user_tz": -210
    },
    "id": "PTUl2EOSiA2S"
   },
   "outputs": [],
   "source": [
    "G_fileName = \"results/\"+str(minFreq)+\"_G\"+\".npy\"\n",
    "with open(G_fileName, 'wb') as f:\n",
    "  np.save(f,G)\n",
    "  np.save(f,featureNames)\n",
    "  np.save(f,plantNames)\n",
    "  np.save(f,bow)\n"
   ]
  },
  {
   "cell_type": "code",
   "execution_count": 22,
   "metadata": {
    "colab": {
     "base_uri": "https://localhost:8080/"
    },
    "executionInfo": {
     "elapsed": 359422,
     "status": "ok",
     "timestamp": 1608273227418,
     "user": {
      "displayName": "Mahmood Amintoosi",
      "photoUrl": "https://lh3.googleusercontent.com/a-/AOh14GiWZ48HqYJJmPdDTueTtb12dMDVlabGiGyYWEXTkA=s64",
      "userId": "06389092743998374259"
     },
     "user_tz": -210
    },
    "id": "elVWdJq7Mkc8",
    "outputId": "091766b1-ec9e-445b-c96e-774a84b1c2ad"
   },
   "outputs": [
    {
     "name": "stderr",
     "output_type": "stream",
     "text": [
      "100%|██████████| 680/680 [05:58<00:00,  1.90it/s]\n"
     ]
    }
   ],
   "source": [
    "itemFreq = [None] * n_freqIS\n",
    "freqIS = iter(freqIS_list)\n",
    "for i,item in enumerate(freqIS):\n",
    "    itemFreq[i] = item[1]\n",
    "\n",
    "nCol = len(T)    \n",
    "# G = np.zeros([nCol,nCol])  \n",
    "    \n",
    "fileName = \"results/\"+str(minFreq)+\"_common_plantName_freq\"+\".txt\"\n",
    "output = open(fileName, 'w')\n",
    "n = 1\n",
    "prevFreq = -1\n",
    "with tqdm(total=n_freqIS) as progress_bar:\n",
    "  for k in range(max(itemFreq)):\n",
    "      nFreq = k+1\n",
    "      freqIS = iter(freqIS_list)\n",
    "      for i,item in enumerate(freqIS):\n",
    "          set_i = item[0]\n",
    "          thisFreq = item[1]\n",
    "          if(thisFreq==nFreq and prevFreq != thisFreq):\n",
    "              output.write(\"======= sets with frequency=%d =======\\n\"% nFreq)\n",
    "          if(thisFreq==nFreq):\n",
    "              items = [x for x in set_i]\n",
    "              commItems_idx = [featureNames.index(str(x)) for x in list(items)]\n",
    "  #             print(commItems_idx)\n",
    "              w = len(commItems_idx)\n",
    "\n",
    "              metabolits_list = [featureNames[int(ii)] for ii in commItems_idx]\n",
    "              output.write(\"%d %s --\" % (n,metabolits_list))\n",
    "              \n",
    "              vec = np.zeros((len(bow[0]),), dtype=int)\n",
    "              vec[commItems_idx] = 1;\n",
    "              commItems = []\n",
    "              for j in range(len(bow)):\n",
    "                  row = bow[j]\n",
    "                  if sum(row&vec)== w:\n",
    "                      commItems.append(plantNames[j])\n",
    "                      \n",
    "  # #          commItems = [rowIdx for row in bow if sum(row&vec)!=0]\n",
    "              output.write(\" %s \\n\" % (commItems))\n",
    "          \n",
    "              n = n+1\n",
    "              prevFreq = thisFreq\n",
    "              progress_bar.update(1) # update progress\n",
    "\n",
    "output.close() "
   ]
  },
  {
   "cell_type": "code",
   "execution_count": 12,
   "metadata": {
    "colab": {
     "base_uri": "https://localhost:8080/"
    },
    "executionInfo": {
     "elapsed": 332505,
     "status": "ok",
     "timestamp": 1608287382637,
     "user": {
      "displayName": "Mahmood Amintoosi",
      "photoUrl": "https://lh3.googleusercontent.com/a-/AOh14GiWZ48HqYJJmPdDTueTtb12dMDVlabGiGyYWEXTkA=s64",
      "userId": "06389092743998374259"
     },
     "user_tz": -210
    },
    "id": "FqI6pK57LXM6",
    "outputId": "305bf344-3a07-4112-ea37-b3012d126cf8"
   },
   "outputs": [
    {
     "name": "stderr",
     "output_type": "stream",
     "text": [
      "  0%|          | 0/680 [00:00<?, ?it/s]"
     ]
    },
    {
     "name": "stdout",
     "output_type": "stream",
     "text": [
      "(frozenset({3672}), 61)\n"
     ]
    },
    {
     "name": "stderr",
     "output_type": "stream",
     "text": [
      "\n"
     ]
    }
   ],
   "source": [
    "# ایجاد گراف برای نمایش\n",
    "itemFreq = [None] * n_freqIS\n",
    "freqIS = iter(freqIS_list)\n",
    "for i,item in enumerate(freqIS):\n",
    "    itemFreq[i] = item[1]\n",
    "\n",
    "nCol = len(T)    \n",
    "G = np.zeros([nCol,nCol])  \n",
    "MIN_FREQ = 10\n",
    "prev_minFreq = minFreq\n",
    "minFreq = MIN_FREQ\n",
    "with tqdm(total=n_freqIS) as progress_bar:\n",
    "    freqIS = iter(freqIS_list)\n",
    "    for i,item in enumerate(freqIS):\n",
    "        set_i = item[0]\n",
    "        thisFreq = item[1]\n",
    "        print(item)\n",
    "        break\n",
    "        if(thisFreq >= minFreq):\n",
    "            items = [x for x in set_i]\n",
    "            commItems_idx = [featureNames.index(str(x)) for x in list(items)]\n",
    "            w = len(commItems_idx)\n",
    "            vec = np.zeros((len(bow[0]),), dtype=int)\n",
    "            vec[commItems_idx] = 1;\n",
    "            commItems = []\n",
    "            for j in range(len(bow)):\n",
    "                row = bow[j]\n",
    "                if sum(row&vec)== w:\n",
    "                    commItems.append(j)\n",
    "            # print(commItems)\n",
    "            for ii in range(len(commItems)):\n",
    "                for jj in range(len(commItems)):#range(ii):\n",
    "                  if(ii != jj):\n",
    "                    src = commItems[ii]\n",
    "                    dst = commItems[jj]\n",
    "                    # G[src,dst] += w\n",
    "                    G[src,dst] += 1\n",
    "        progress_bar.update(1) # update progress\n",
    "\n",
    "minFreq = prev_minFreq"
   ]
  },
  {
   "cell_type": "code",
   "execution_count": 14,
   "metadata": {},
   "outputs": [
    {
     "name": "stdout",
     "output_type": "stream",
     "text": [
      "7416\n",
      "403\n",
      "1\n",
      "[1036, 2647, 5548, 5872, 8210, 8817, 13297, 13867, 13974, 14320, 46784]\n"
     ]
    }
   ],
   "source": [
    "print(len(featureNames))\n",
    "print(len(T))\n",
    "print(featureNames[0])\n",
    "print(T[0])\n",
    "nPl"
   ]
  },
  {
   "cell_type": "code",
   "execution_count": 173,
   "metadata": {
    "colab": {
     "base_uri": "https://localhost:8080/"
    },
    "executionInfo": {
     "elapsed": 6271,
     "status": "ok",
     "timestamp": 1608287453103,
     "user": {
      "displayName": "Mahmood Amintoosi",
      "photoUrl": "https://lh3.googleusercontent.com/a-/AOh14GiWZ48HqYJJmPdDTueTtb12dMDVlabGiGyYWEXTkA=s64",
      "userId": "06389092743998374259"
     },
     "user_tz": -210
    },
    "id": "o3OSeFo0StKc",
    "outputId": "8c7e2304-5d03-42c4-f996-3d40508dec04"
   },
   "outputs": [
    {
     "name": "stderr",
     "output_type": "stream",
     "text": [
      "100%|█████████▉| 81003/81406.0 [00:05<00:00, 15148.77it/s]\n"
     ]
    }
   ],
   "source": [
    "from pyvis.network import Network\n",
    "import pandas as pd\n",
    "\n",
    "got_net = Network(height=\"750px\", width=\"100%\", bgcolor=\"#222222\", font_color=\"white\")\n",
    "\n",
    "# set the physics layout of the network\n",
    "got_net.barnes_hut()\n",
    "with tqdm(total=len(G)*(len(G)+1)/2) as progress_bar:\n",
    "  for ii in range(len(G)):\n",
    "      for jj in range(ii):\n",
    "          w = G[ii,jj]\n",
    "          progress_bar.update(1) # update progress\n",
    "          if w!=0:\n",
    "              # src = str(ii)\n",
    "              # dst = str(jj)\n",
    "              # got_net.add_node(src, src, title=src)\n",
    "              # got_net.add_node(dst, dst, title=dst)\n",
    "              src = plantNames[ii]\n",
    "              dst = plantNames[jj]\n",
    "              got_net.add_node(src, src, title=plantNames[ii])\n",
    "              got_net.add_node(dst, dst, title=plantNames[jj])\n",
    "              got_net.add_edge(src, dst, value=w)"
   ]
  },
  {
   "cell_type": "code",
   "execution_count": 174,
   "metadata": {
    "executionInfo": {
     "elapsed": 1197,
     "status": "ok",
     "timestamp": 1608287459123,
     "user": {
      "displayName": "Mahmood Amintoosi",
      "photoUrl": "https://lh3.googleusercontent.com/a-/AOh14GiWZ48HqYJJmPdDTueTtb12dMDVlabGiGyYWEXTkA=s64",
      "userId": "06389092743998374259"
     },
     "user_tz": -210
    },
    "id": "VlLHhrf7ixiK"
   },
   "outputs": [],
   "source": [
    "degreeG = G.sum(axis=0)\n",
    "# degreeG"
   ]
  },
  {
   "cell_type": "code",
   "execution_count": 175,
   "metadata": {
    "executionInfo": {
     "elapsed": 1064,
     "status": "ok",
     "timestamp": 1608287459596,
     "user": {
      "displayName": "Mahmood Amintoosi",
      "photoUrl": "https://lh3.googleusercontent.com/a-/AOh14GiWZ48HqYJJmPdDTueTtb12dMDVlabGiGyYWEXTkA=s64",
      "userId": "06389092743998374259"
     },
     "user_tz": -210
    },
    "id": "VS798DVwStKc"
   },
   "outputs": [],
   "source": [
    "neighbor_map = got_net.get_adj_list()\n",
    "# add neighbor data to node hover data\n",
    "for node in got_net.nodes:\n",
    "    node[\"title\"] += \"<br>\" + str(len(neighbor_map[node[\"id\"]]))+ \" Neighbors:<br>\" + \"<br>\".join(neighbor_map[node[\"id\"]])\n",
    "    node[\"value\"] = len(neighbor_map[node[\"id\"]])"
   ]
  },
  {
   "cell_type": "code",
   "execution_count": 177,
   "metadata": {
    "executionInfo": {
     "elapsed": 1609,
     "status": "ok",
     "timestamp": 1608287462054,
     "user": {
      "displayName": "Mahmood Amintoosi",
      "photoUrl": "https://lh3.googleusercontent.com/a-/AOh14GiWZ48HqYJJmPdDTueTtb12dMDVlabGiGyYWEXTkA=s64",
      "userId": "06389092743998374259"
     },
     "user_tz": -210
    },
    "id": "bkZgEc8MStKd"
   },
   "outputs": [],
   "source": [
    "got_net.show(\"results/\"+str(minFreq)+\"_metabolGraph_w1.html\")"
   ]
  },
  {
   "cell_type": "code",
   "execution_count": null,
   "metadata": {
    "id": "vO5Kwcx7StKe"
   },
   "outputs": [],
   "source": [
    "import seaborn as sns\n",
    "sns.heatmap(G, annot=True)"
   ]
  },
  {
   "cell_type": "code",
   "execution_count": 178,
   "metadata": {
    "colab": {
     "base_uri": "https://localhost:8080/",
     "height": 269
    },
    "executionInfo": {
     "elapsed": 1067,
     "status": "ok",
     "timestamp": 1608287466253,
     "user": {
      "displayName": "Mahmood Amintoosi",
      "photoUrl": "https://lh3.googleusercontent.com/a-/AOh14GiWZ48HqYJJmPdDTueTtb12dMDVlabGiGyYWEXTkA=s64",
      "userId": "06389092743998374259"
     },
     "user_tz": -210
    },
    "id": "K4F_G2wcStKg",
    "outputId": "26cd5d4a-99e2-47fd-c2cb-5f1a005926a6"
   },
   "outputs": [
    {
     "data": {
      "image/png": "[encoded data removed]",
      "text/plain": [
       "<Figure size 432x288 with 1 Axes>"
      ]
     },
     "metadata": {
      "needs_background": "light",
      "tags": []
     },
     "output_type": "display_data"
    }
   ],
   "source": [
    "%matplotlib inline \n",
    "from matplotlib import pyplot as plt\n",
    "plt.imshow(G, interpolation='nearest')\n",
    "plt.show()"
   ]
  },
  {
   "cell_type": "code",
   "execution_count": 179,
   "metadata": {
    "colab": {
     "base_uri": "https://localhost:8080/"
    },
    "executionInfo": {
     "elapsed": 992,
     "status": "ok",
     "timestamp": 1608287480853,
     "user": {
      "displayName": "Mahmood Amintoosi",
      "photoUrl": "https://lh3.googleusercontent.com/a-/AOh14GiWZ48HqYJJmPdDTueTtb12dMDVlabGiGyYWEXTkA=s64",
      "userId": "06389092743998374259"
     },
     "user_tz": -210
    },
    "id": "bNEHJURTkqVv",
    "outputId": "0ced0c10-bceb-4e3e-e73b-fbc1ea963580"
   },
   "outputs": [
    {
     "name": "stdout",
     "output_type": "stream",
     "text": [
      "265\n",
      "[ 10  68 197  67  69 269 107  65  66  95  50  53 156 279 230 208 105  40\n",
      " 245 201  49 335 320 321 322 324 312 402 345 119 310 185 151  32 355  70\n",
      " 314 336 327 326 309 114 316 205 358 179 195 180 290 183 390 379 347 273\n",
      " 361 103 281 136 137 374 377 194  82 362 106  43 275 318   4 304 295 210\n",
      " 242 115 368 294  29 168 102 287 233 203 401 158  88  35  99  31 363 237\n",
      " 298 299 153  24 130  14 308 228 372 160]\n"
     ]
    }
   ],
   "source": [
    "nPlants = np.sum(degreeG != 0)\n",
    "print(nPlants)\n",
    "sorted_plants = np.sort(degreeG)[::-1]\n",
    "sorted_plants_idx = np.argsort(degreeG)[::-1] # Descending order\n",
    "# print(degreeG[sorted_plants_idx[0]])\n",
    "bestPlants = sorted_plants_idx[:np.min([nPlants,100])]\n",
    "print(bestPlants)\n",
    "# print(plantNames[bestPlants])\n",
    "bestPlantNames = [plantNames[x] for x in bestPlants]\n",
    "# bestPlants_fileName = \"results/\"+str(minFreq)+\"_bestPlants\"+\".npy\"\n",
    "# with open(bestPlants_fileName, 'wb') as f:\n",
    "#   np.save(f,bestPlantNames)\n"
   ]
  },
  {
   "cell_type": "code",
   "execution_count": 181,
   "metadata": {
    "colab": {
     "base_uri": "https://localhost:8080/"
    },
    "executionInfo": {
     "elapsed": 1410,
     "status": "ok",
     "timestamp": 1608287519012,
     "user": {
      "displayName": "Mahmood Amintoosi",
      "photoUrl": "https://lh3.googleusercontent.com/a-/AOh14GiWZ48HqYJJmPdDTueTtb12dMDVlabGiGyYWEXTkA=s64",
      "userId": "06389092743998374259"
     },
     "user_tz": -210
    },
    "id": "1PiLg763k8oW",
    "outputId": "95ec31b4-f649-40d5-bf57-47e96d5dc4f9"
   },
   "outputs": [
    {
     "name": "stderr",
     "output_type": "stream",
     "text": [
      "100%|██████████| 4950/4950.0 [00:00<00:00, 7597.79it/s]\n"
     ]
    }
   ],
   "source": [
    "# MIN_FREQ = 40\n",
    "# prev_minFreq = minFreq\n",
    "# minFreq = MIN_FREQ\n",
    "\n",
    "# subG = G[bestPlants,:]\n",
    "# subG = subG[:,bestPlants]\n",
    "best_net = Network(height=\"750px\", width=\"100%\", bgcolor=\"white\", font_color=\"black\")\n",
    "\n",
    "# set the physics layout of the network\n",
    "best_net.barnes_hut()\n",
    "with tqdm(total=len(bestPlants)*(len(bestPlants)-1)/2) as progress_bar:\n",
    "  for ii in range(len(G)):\n",
    "    if(ii in bestPlants):\n",
    "      for jj in range(ii):\n",
    "        if(jj in bestPlants):\n",
    "          w = G[ii,jj]\n",
    "          progress_bar.update(1) # update progress\n",
    "          if w!=0:\n",
    "              src = plantNames[ii]\n",
    "              dst = plantNames[jj]\n",
    "              best_net.add_node(src, src, title=plantNames[ii])\n",
    "              best_net.add_node(dst, dst, title=plantNames[jj])\n",
    "              best_net.add_edge(src, dst, value=w)\n",
    "\n",
    "neighbor_map = best_net.get_adj_list()\n",
    "# add neighbor data to node hover data\n",
    "for node in best_net.nodes:\n",
    "    node[\"title\"] += \"<br>\" + str(len(neighbor_map[node[\"id\"]]))+ \" Neighbors:<br>\" + \"<br>\".join(neighbor_map[node[\"id\"]])\n",
    "    node[\"value\"] = len(neighbor_map[node[\"id\"]])     \n",
    "\n",
    "best_net.show(\"results/bestPlants_min_freq_\"+str(MIN_FREQ)+\".html\")      \n"
   ]
  },
  {
   "cell_type": "code",
   "execution_count": 151,
   "metadata": {
    "executionInfo": {
     "elapsed": 1041,
     "status": "ok",
     "timestamp": 1608285080532,
     "user": {
      "displayName": "Mahmood Amintoosi",
      "photoUrl": "https://lh3.googleusercontent.com/a-/AOh14GiWZ48HqYJJmPdDTueTtb12dMDVlabGiGyYWEXTkA=s64",
      "userId": "06389092743998374259"
     },
     "user_tz": -210
    },
    "id": "8IqjePUTAz9s"
   },
   "outputs": [],
   "source": [
    "df = pd.read_excel(r'data/100best.xlsx',header=0) \n",
    "plantNames_Cytohubba = df['plantName']"
   ]
  },
  {
   "cell_type": "code",
   "execution_count": 183,
   "metadata": {
    "executionInfo": {
     "elapsed": 1354,
     "status": "ok",
     "timestamp": 1608287603237,
     "user": {
      "displayName": "Mahmood Amintoosi",
      "photoUrl": "https://lh3.googleusercontent.com/a-/AOh14GiWZ48HqYJJmPdDTueTtb12dMDVlabGiGyYWEXTkA=s64",
      "userId": "06389092743998374259"
     },
     "user_tz": -210
    },
    "id": "cXC6EQYNPpow"
   },
   "outputs": [],
   "source": [
    "plantNames_FIS = bestPlantNames[:]"
   ]
  },
  {
   "cell_type": "code",
   "execution_count": 185,
   "metadata": {
    "colab": {
     "base_uri": "https://localhost:8080/"
    },
    "executionInfo": {
     "elapsed": 1066,
     "status": "ok",
     "timestamp": 1608288004844,
     "user": {
      "displayName": "Mahmood Amintoosi",
      "photoUrl": "https://lh3.googleusercontent.com/a-/AOh14GiWZ48HqYJJmPdDTueTtb12dMDVlabGiGyYWEXTkA=s64",
      "userId": "06389092743998374259"
     },
     "user_tz": -210
    },
    "id": "hjChy0HyQTJs",
    "outputId": "12a3382e-89b3-481e-cee8-5e943424e84d"
   },
   "outputs": [
    {
     "data": {
      "text/plain": [
       "{'Arabidopsis thaliana',\n",
       " 'Ardisia colorata',\n",
       " 'Artemisia annua',\n",
       " 'Camellia sinensis',\n",
       " 'Citrus unshiu',\n",
       " 'Crataegus pinnatifida',\n",
       " 'Cucumis sativus',\n",
       " 'Hibiscus taiwanensis',\n",
       " 'Perilla frutescens',\n",
       " 'Phellodendron amurense',\n",
       " 'Plantago major',\n",
       " 'Punica granatum',\n",
       " 'Salvia officinalis',\n",
       " 'Sophora japonica',\n",
       " 'Theobroma cacao',\n",
       " 'Trifolium repens',\n",
       " 'Ziziphus jujuba'}"
      ]
     },
     "execution_count": 185,
     "metadata": {
      "tags": []
     },
     "output_type": "execute_result"
    }
   ],
   "source": [
    "intersectPlants = set(plantNames_FIS) & set(plantNames_Cytohubba)\n",
    "intersectPlants"
   ]
  },
  {
   "cell_type": "code",
   "execution_count": 186,
   "metadata": {
    "executionInfo": {
     "elapsed": 1058,
     "status": "ok",
     "timestamp": 1608288111351,
     "user": {
      "displayName": "Mahmood Amintoosi",
      "photoUrl": "https://lh3.googleusercontent.com/a-/AOh14GiWZ48HqYJJmPdDTueTtb12dMDVlabGiGyYWEXTkA=s64",
      "userId": "06389092743998374259"
     },
     "user_tz": -210
    },
    "id": "yGdy5jY0k5y0"
   },
   "outputs": [],
   "source": [
    "import xlsxwriter \n",
    "workbook = xlsxwriter.Workbook(\"results/bestPlants_min_freq_\"+str(MIN_FREQ)+\".xlsx\") \n",
    "worksheet = workbook.add_worksheet() \n",
    "row = 0\n",
    "column = 0\n",
    "for idx,item,freq in zip(bestPlants,bestPlantNames,sorted_plants) : \n",
    "    # write operation perform \n",
    "    worksheet.write(row, 0, idx) \n",
    "    worksheet.write(row, 1, item) \n",
    "    worksheet.write(row, 2, freq) \n",
    "    # incrementing the value of row by one \n",
    "    # with each iteratons. \n",
    "    row += 1\n",
    "      \n",
    "worksheet = workbook.add_worksheet() \n",
    "row = 0\n",
    "column = 0\n",
    "for item in intersectPlants: \n",
    "    worksheet.write(row, 0, item) \n",
    "    row += 1\n",
    "\n",
    "workbook.close() "
   ]
  }
 ],
 "metadata": {
  "colab": {
   "collapsed_sections": [],
   "name": "FreqItemSet_Orange3_40_plot_graph.ipynb",
   "provenance": []
  },
  "kernelspec": {
   "display_name": "Python 3",
   "language": "python",
   "name": "python3"
  },
  "language_info": {
   "codemirror_mode": {
    "name": "ipython",
    "version": 3
   },
   "file_extension": ".py",
   "mimetype": "text/x-python",
   "name": "python",
   "nbconvert_exporter": "python",
   "pygments_lexer": "ipython3",
   "version": "3.7.6"
  }
 },
 "nbformat": 4,
 "nbformat_minor": 1
}
